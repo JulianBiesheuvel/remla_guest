{
 "cells": [
  {
   "cell_type": "markdown",
   "id": "018c9687",
   "metadata": {},
   "source": [
    "# Data Validation Tutorial\n",
    "Welcome to the data validation tutorial using tensorflow data validation! In this tutorial we will be using tensorflow data validation (or tfdv) to perform skew detection between our training & serving data. The tutorial is divided into the following segments:\n",
    "\n",
    "1. TFDV Exploration: we will start by exploring the fundamentals of tfdv.\n",
    "2. Data validation: next we will write some *tests* for our data.\n",
    "3. Drift detection: and finally, we will simulate *drift* in our data by introducing *bugs* in our serving data & check if tfdv is able to catch this for us!\n",
    "4. (Optional) fix data bug: if time permits, we will also try to implement a fix for the data bug.\n",
    "\n",
    "\n",
    "Lets start by importing the necessary python modules."
   ]
  },
  {
   "cell_type": "code",
   "execution_count": 1,
   "id": "baa7eb18",
   "metadata": {},
   "outputs": [],
   "source": [
    "import tensorflow_data_validation as tfdv"
   ]
  },
  {
   "cell_type": "markdown",
   "id": "175269f8",
   "metadata": {},
   "source": [
    "## Part 1: TFDV Exploration\n",
    "In this section we will explore the basics of tfdv."
   ]
  },
  {
   "cell_type": "markdown",
   "id": "c0bad491",
   "metadata": {},
   "source": [
    "## Part 2: Data Validation\n",
    "In this section we will write tests for our data."
   ]
  },
  {
   "cell_type": "markdown",
   "id": "ddfd4ce3",
   "metadata": {},
   "source": [
    "## Part 3: Drift Detection\n",
    "In this section we will use tfdv to detect drift in our data."
   ]
  },
  {
   "cell_type": "markdown",
   "id": "f3bc1a5d",
   "metadata": {},
   "source": [
    "## (OPTIONAL) Part 4: Fix\n",
    "In this section we will attempt to fix the data bug."
   ]
  },
  {
   "cell_type": "code",
   "execution_count": null,
   "id": "7f92e15b",
   "metadata": {},
   "outputs": [],
   "source": []
  }
 ],
 "metadata": {
  "kernelspec": {
   "display_name": "Python 3",
   "language": "python",
   "name": "python3"
  },
  "language_info": {
   "codemirror_mode": {
    "name": "ipython",
    "version": 3
   },
   "file_extension": ".py",
   "mimetype": "text/x-python",
   "name": "python",
   "nbconvert_exporter": "python",
   "pygments_lexer": "ipython3",
   "version": "3.8.8"
  }
 },
 "nbformat": 4,
 "nbformat_minor": 5
}
